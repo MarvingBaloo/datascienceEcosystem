{
 "cells": [
  {
   "cell_type": "markdown",
   "id": "fecf3b7e-137f-43a0-98df-b6fc16db6750",
   "metadata": {
    "panel-layout": {
     "height": 94.3125,
     "visible": true,
     "width": 100
    }
   },
   "source": [
    "# Outils et écosystème de la science des données"
   ]
  },
  {
   "cell_type": "markdown",
   "id": "f8c290ee-9660-4d2b-a029-27c67bc9e0d0",
   "metadata": {
    "panel-layout": {
     "height": 64.03125,
     "visible": true,
     "width": 100
    }
   },
   "source": [
    "### Dans ce notebook, les outils et l'écosystème de la science des données sont résumés."
   ]
  },
  {
   "cell_type": "markdown",
   "id": "a158bcd7-de9d-4eff-88d1-d885a622a860",
   "metadata": {
    "panel-layout": {
     "height": 112.4375,
     "visible": true,
     "width": 100
    }
   },
   "source": [
    "### _Objectifs :_\n",
    "\n",
    "* Lister les langages populaires pour la science des données\n",
    "* Lister les bibliothèques populaires pour la science des données\n",
    "* Lister les outils populaires pour la sciences des données\n"
   ]
  },
  {
   "cell_type": "markdown",
   "id": "1bc2d34d-82d6-43d3-9889-c50c673109fb",
   "metadata": {
    "panel-layout": {
     "height": 64.03125,
     "visible": true,
     "width": 100
    }
   },
   "source": [
    "### Certains des langages populaires que les scientifiques des données utilisent sont :"
   ]
  },
  {
   "cell_type": "markdown",
   "id": "d9b198dc-edeb-45ec-b44c-be313b076802",
   "metadata": {
    "panel-layout": {
     "height": 102.5625,
     "visible": true,
     "width": 100
    }
   },
   "source": [
    "1. Python\n",
    "2. R\n",
    "4. SQL\n",
    "5. Julia"
   ]
  },
  {
   "cell_type": "markdown",
   "id": "9f590e1f-c567-4d59-bf1a-14c049f969c9",
   "metadata": {
    "panel-layout": {
     "height": 64.03125,
     "visible": true,
     "width": 100
    }
   },
   "source": [
    "### Certaines des bibliothèques couramment utilisées par les scientifiques des données incluent :"
   ]
  },
  {
   "cell_type": "markdown",
   "id": "bd76ec04-0567-4d1a-9a0f-4348d33e156a",
   "metadata": {
    "panel-layout": {
     "height": 102.5625,
     "visible": true,
     "width": 100
    }
   },
   "source": [
    "1. Pandas\n",
    "2. Numpy\n",
    "3. ggplot2\n",
    "4. TensorFlow"
   ]
  },
  {
   "cell_type": "markdown",
   "id": "6c294911-f7fa-4c68-ab15-1601b6f80137",
   "metadata": {
    "panel-layout": {
     "height": 123,
     "visible": true,
     "width": 100
    }
   },
   "source": [
    "|Outils de la science des données|\n",
    "|--------------------------------|\n",
    "|Jupyter Notebook|\n",
    "|R Studio|\n",
    "|Apache Zepplin|"
   ]
  },
  {
   "cell_type": "markdown",
   "id": "ef699393-1d2f-4193-b259-0eea5fffe38f",
   "metadata": {
    "panel-layout": {
     "height": 44.03125,
     "visible": true,
     "width": 100
    }
   },
   "source": [
    "### Voici quelques exemples d'évaluation d'expressions arithmétiques en Python"
   ]
  },
  {
   "cell_type": "code",
   "execution_count": 37,
   "id": "1d2dfd26-0465-49a6-b39a-ac9cb5e0be70",
   "metadata": {},
   "outputs": [
    {
     "data": {
      "text/plain": [
       "17"
      ]
     },
     "execution_count": 37,
     "metadata": {},
     "output_type": "execute_result"
    }
   ],
   "source": [
    "(3*4)+5\n",
    "##Ceci est une simple expression arithmétique pour multiplier puis additionner des entiers."
   ]
  },
  {
   "cell_type": "code",
   "execution_count": 39,
   "id": "dc7eea52-5976-4700-86ae-2bfcf9d8d117",
   "metadata": {},
   "outputs": [
    {
     "data": {
      "text/plain": [
       "3.3333333333333335"
      ]
     },
     "execution_count": 39,
     "metadata": {},
     "output_type": "execute_result"
    }
   ],
   "source": [
    "200/60\n",
    "##Cela convertira 200 minutes en heures en divisant par 60"
   ]
  },
  {
   "cell_type": "markdown",
   "id": "cdb7b694-9a55-49c4-8b4e-325f81f82efa",
   "metadata": {
    "panel-layout": {
     "height": 10,
     "visible": true,
     "width": 100
    }
   },
   "source": []
  },
  {
   "cell_type": "markdown",
   "id": "bce2750e-393f-4240-b957-39a043258d46",
   "metadata": {
    "panel-layout": {
     "height": 72.359375,
     "visible": true,
     "width": 100
    }
   },
   "source": [
    "## Auteur\n",
    "###### Gustave Marving"
   ]
  },
  {
   "cell_type": "code",
   "execution_count": null,
   "id": "7b315147-7e0f-4825-aff2-dbdc7ed36a97",
   "metadata": {},
   "outputs": [],
   "source": []
  }
 ],
 "metadata": {
  "kernelspec": {
   "display_name": "Python 3 (ipykernel)",
   "language": "python",
   "name": "python3"
  },
  "language_info": {
   "codemirror_mode": {
    "name": "ipython",
    "version": 3
   },
   "file_extension": ".py",
   "mimetype": "text/x-python",
   "name": "python",
   "nbconvert_exporter": "python",
   "pygments_lexer": "ipython3",
   "version": "3.12.7"
  },
  "panel-cell-order": [
   "fecf3b7e-137f-43a0-98df-b6fc16db6750",
   "f8c290ee-9660-4d2b-a029-27c67bc9e0d0",
   "1bc2d34d-82d6-43d3-9889-c50c673109fb",
   "d9b198dc-edeb-45ec-b44c-be313b076802",
   "9f590e1f-c567-4d59-bf1a-14c049f969c9",
   "bd76ec04-0567-4d1a-9a0f-4348d33e156a",
   "6c294911-f7fa-4c68-ab15-1601b6f80137",
   "a158bcd7-de9d-4eff-88d1-d885a622a860",
   "ef699393-1d2f-4193-b259-0eea5fffe38f",
   "cdb7b694-9a55-49c4-8b4e-325f81f82efa",
   "bce2750e-393f-4240-b957-39a043258d46"
  ]
 },
 "nbformat": 4,
 "nbformat_minor": 5
}
